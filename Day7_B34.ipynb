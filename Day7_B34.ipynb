{
 "cells": [
  {
   "cell_type": "code",
   "execution_count": null,
   "metadata": {},
   "outputs": [],
   "source": [
    "Continuation of lists:"
   ]
  },
  {
   "cell_type": "code",
   "execution_count": null,
   "metadata": {},
   "outputs": [],
   "source": [
    "Methods to organise a list:\n",
    "    sorted \n",
    "    sort\n",
    "    len"
   ]
  },
  {
   "cell_type": "code",
   "execution_count": null,
   "metadata": {},
   "outputs": [],
   "source": []
  },
  {
   "cell_type": "code",
   "execution_count": null,
   "metadata": {},
   "outputs": [],
   "source": [
    "Introduction to for loops:"
   ]
  },
  {
   "cell_type": "code",
   "execution_count": 2,
   "metadata": {},
   "outputs": [],
   "source": [
    "students = ['deep', 'gautham', 'akshay', 'vishnu', 'ram', 'shiva']"
   ]
  },
  {
   "cell_type": "code",
   "execution_count": 3,
   "metadata": {},
   "outputs": [
    {
     "name": "stdout",
     "output_type": "stream",
     "text": [
      "['deep', 'gautham', 'akshay', 'vishnu', 'ram', 'shiva']\n"
     ]
    }
   ],
   "source": [
    "print(students)"
   ]
  },
  {
   "cell_type": "code",
   "execution_count": 4,
   "metadata": {},
   "outputs": [
    {
     "data": {
      "text/plain": [
       "list"
      ]
     },
     "execution_count": 4,
     "metadata": {},
     "output_type": "execute_result"
    }
   ],
   "source": [
    "type(students)"
   ]
  },
  {
   "cell_type": "code",
   "execution_count": null,
   "metadata": {},
   "outputs": [],
   "source": []
  },
  {
   "cell_type": "code",
   "execution_count": 6,
   "metadata": {},
   "outputs": [
    {
     "name": "stdout",
     "output_type": "stream",
     "text": [
      "Keep up the good work, deep\n"
     ]
    }
   ],
   "source": [
    "print(f'Keep up the good work, {students[0]}')"
   ]
  },
  {
   "cell_type": "code",
   "execution_count": 8,
   "metadata": {},
   "outputs": [
    {
     "name": "stdout",
     "output_type": "stream",
     "text": [
      "Keep up the good work, Gautham\n"
     ]
    }
   ],
   "source": [
    "print(f'Keep up the good work, {students[1].title()}')"
   ]
  },
  {
   "cell_type": "code",
   "execution_count": null,
   "metadata": {},
   "outputs": [],
   "source": []
  },
  {
   "cell_type": "code",
   "execution_count": null,
   "metadata": {},
   "outputs": [],
   "source": [
    "General syntax of the for loops:\n",
    "    for (tempvar) in (mainvar):\n",
    "        print(tempvar)"
   ]
  },
  {
   "cell_type": "code",
   "execution_count": 9,
   "metadata": {},
   "outputs": [
    {
     "name": "stdout",
     "output_type": "stream",
     "text": [
      "Keep up the good work, deep\n",
      "Keep up the good work, gautham\n",
      "Keep up the good work, akshay\n",
      "Keep up the good work, vishnu\n",
      "Keep up the good work, ram\n",
      "Keep up the good work, shiva\n"
     ]
    }
   ],
   "source": [
    "for x in students:\n",
    "    print(f\"Keep up the good work, {x}\")"
   ]
  },
  {
   "cell_type": "code",
   "execution_count": 11,
   "metadata": {},
   "outputs": [
    {
     "name": "stdout",
     "output_type": "stream",
     "text": [
      "Keep up the good work, Deep\n",
      "Keep up the good work, Gautham\n",
      "Keep up the good work, Akshay\n",
      "Keep up the good work, Vishnu\n",
      "Keep up the good work, Ram\n",
      "Keep up the good work, Shiva\n"
     ]
    }
   ],
   "source": [
    "for abc in students:\n",
    "    print(f\"Keep up the good work, {abc.title()}\")"
   ]
  },
  {
   "cell_type": "code",
   "execution_count": 14,
   "metadata": {},
   "outputs": [
    {
     "name": "stdout",
     "output_type": "stream",
     "text": [
      "Keep up the good work, Deep\n",
      "I need to recieve your github URL, Deep\n",
      "Keep up the good work, Gautham\n",
      "I need to recieve your github URL, Gautham\n",
      "Keep up the good work, Akshay\n",
      "I need to recieve your github URL, Akshay\n",
      "Keep up the good work, Vishnu\n",
      "I need to recieve your github URL, Vishnu\n",
      "Keep up the good work, Ram\n",
      "I need to recieve your github URL, Ram\n",
      "Keep up the good work, Shiva\n",
      "I need to recieve your github URL, Shiva\n"
     ]
    }
   ],
   "source": [
    "for abc in students:\n",
    "    print(f\"Keep up the good work, {abc.title()}\")\n",
    "    print(f\"I need to recieve your github URL, {abc.title()}\") # writing inside the loop (with intendation)..."
   ]
  },
  {
   "cell_type": "code",
   "execution_count": 16,
   "metadata": {},
   "outputs": [
    {
     "name": "stdout",
     "output_type": "stream",
     "text": [
      "Keep up the good work, Deep\n",
      "I need to recieve your github URL, Deep\n",
      "\n",
      "Keep up the good work, Gautham\n",
      "I need to recieve your github URL, Gautham\n",
      "\n",
      "Keep up the good work, Akshay\n",
      "I need to recieve your github URL, Akshay\n",
      "\n",
      "Keep up the good work, Vishnu\n",
      "I need to recieve your github URL, Vishnu\n",
      "\n",
      "Keep up the good work, Ram\n",
      "I need to recieve your github URL, Ram\n",
      "\n",
      "Keep up the good work, Shiva\n",
      "I need to recieve your github URL, Shiva\n",
      "\n"
     ]
    }
   ],
   "source": [
    "for abc in students:\n",
    "    print(f\"Keep up the good work, {abc.title()}\")\n",
    "    print(f\"I need to recieve your github URL, {abc.title()}\\n\") # \\n is used to create space...."
   ]
  },
  {
   "cell_type": "code",
   "execution_count": null,
   "metadata": {},
   "outputs": [],
   "source": [
    "Enhancement of the code...."
   ]
  },
  {
   "cell_type": "code",
   "execution_count": 17,
   "metadata": {},
   "outputs": [
    {
     "name": "stdout",
     "output_type": "stream",
     "text": [
      "Keep up the good work, Deep\n",
      "I need to recieve your github URL, Deep\n",
      "\n",
      "Keep up the good work, Gautham\n",
      "I need to recieve your github URL, Gautham\n",
      "\n",
      "Keep up the good work, Akshay\n",
      "I need to recieve your github URL, Akshay\n",
      "\n",
      "Keep up the good work, Vishnu\n",
      "I need to recieve your github URL, Vishnu\n",
      "\n",
      "Keep up the good work, Ram\n",
      "I need to recieve your github URL, Ram\n",
      "\n",
      "Keep up the good work, Shiva\n",
      "I need to recieve your github URL, Shiva\n",
      "\n",
      "Thank you all for joining the session\n"
     ]
    }
   ],
   "source": [
    "for abc in students:\n",
    "    print(f\"Keep up the good work, {abc.title()}\")\n",
    "    print(f\"I need to recieve your github URL, {abc.title()}\\n\")\n",
    "print('Thank you all for joining the session') # writing outside the loop (without intendation)..."
   ]
  },
  {
   "cell_type": "code",
   "execution_count": null,
   "metadata": {},
   "outputs": [],
   "source": []
  }
 ],
 "metadata": {
  "kernelspec": {
   "display_name": "Python 3",
   "language": "python",
   "name": "python3"
  },
  "language_info": {
   "codemirror_mode": {
    "name": "ipython",
    "version": 3
   },
   "file_extension": ".py",
   "mimetype": "text/x-python",
   "name": "python",
   "nbconvert_exporter": "python",
   "pygments_lexer": "ipython3",
   "version": "3.8.5"
  }
 },
 "nbformat": 4,
 "nbformat_minor": 4
}
