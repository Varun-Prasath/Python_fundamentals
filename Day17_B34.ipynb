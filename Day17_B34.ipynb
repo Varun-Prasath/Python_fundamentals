{
 "cells": [
  {
   "cell_type": "code",
   "execution_count": null,
   "metadata": {},
   "outputs": [],
   "source": [
    "Introduction to constructor (It is also called as special method or magical method)\n",
    "\n",
    "Overview:\n",
    "    __init__() It will be used to initialize the attributes in the methods..."
   ]
  },
  {
   "cell_type": "code",
   "execution_count": null,
   "metadata": {},
   "outputs": [],
   "source": []
  },
  {
   "cell_type": "code",
   "execution_count": null,
   "metadata": {},
   "outputs": [],
   "source": [
    "Req: Create a dag class where it needs to have the below methods:\n",
    "        \n",
    "        1. Accept the name and age of the dog from the input\n",
    "        2. Jump\n",
    "        3. Sleep\n",
    "        4. Rollover\n",
    "        5. Eat \n",
    "        6. Details"
   ]
  },
  {
   "cell_type": "code",
   "execution_count": 13,
   "metadata": {},
   "outputs": [],
   "source": [
    "class Dog:\n",
    "    \"\"\"A simple attempt to model the dog\"\"\"\n",
    "    def __init__(self, name, age):\n",
    "        self.name = name\n",
    "        self.age = age\n",
    "        print('It got executed automatically whithout calling it specifically')\n",
    "        \n",
    "    def jump(self):\n",
    "        print(f\"{self.name} is now jumping\")\n",
    "        \n",
    "    def sleep(self):\n",
    "        print(f\"{self.name} is now sleeping\")\n",
    "        \n",
    "    def rollover(self):\n",
    "        print(f\"{self.name} is now rolling over on the command\")\n",
    "        \n",
    "    def eat(self):\n",
    "        print(f\"{self.name} is now eating\")\n",
    "        \n",
    "    def details(self):\n",
    "        print(f\"{self.name} is the name of the dog\")\n",
    "        print(f\"{self.name} is of {self.age} years old'\")"
   ]
  },
  {
   "cell_type": "code",
   "execution_count": 2,
   "metadata": {},
   "outputs": [
    {
     "name": "stdout",
     "output_type": "stream",
     "text": [
      "It got executed automatically whithout calling it specifically\n"
     ]
    }
   ],
   "source": [
    "test = Dog('Scooby', 2) # We can pass the arguments while assigning the objects..."
   ]
  },
  {
   "cell_type": "code",
   "execution_count": 3,
   "metadata": {},
   "outputs": [
    {
     "name": "stdout",
     "output_type": "stream",
     "text": [
      "Scooby is now jumping\n"
     ]
    }
   ],
   "source": [
    "test.jump()"
   ]
  },
  {
   "cell_type": "code",
   "execution_count": 4,
   "metadata": {},
   "outputs": [
    {
     "name": "stdout",
     "output_type": "stream",
     "text": [
      "Scooby is now sleeping\n"
     ]
    }
   ],
   "source": [
    "test.sleep()"
   ]
  },
  {
   "cell_type": "code",
   "execution_count": 5,
   "metadata": {},
   "outputs": [
    {
     "name": "stdout",
     "output_type": "stream",
     "text": [
      "Scooby is now rolling over on the command\n"
     ]
    }
   ],
   "source": [
    "test.rollover()"
   ]
  },
  {
   "cell_type": "code",
   "execution_count": 6,
   "metadata": {},
   "outputs": [
    {
     "name": "stdout",
     "output_type": "stream",
     "text": [
      "Scooby is now eating\n"
     ]
    }
   ],
   "source": [
    "test.eat()"
   ]
  },
  {
   "cell_type": "code",
   "execution_count": 12,
   "metadata": {},
   "outputs": [
    {
     "name": "stdout",
     "output_type": "stream",
     "text": [
      "Scooby is the name of the dog\n",
      "Scooby is of 2's years old'\n"
     ]
    }
   ],
   "source": [
    "test.details()"
   ]
  },
  {
   "cell_type": "code",
   "execution_count": null,
   "metadata": {},
   "outputs": [],
   "source": []
  }
 ],
 "metadata": {
  "kernelspec": {
   "display_name": "Python 3",
   "language": "python",
   "name": "python3"
  },
  "language_info": {
   "codemirror_mode": {
    "name": "ipython",
    "version": 3
   },
   "file_extension": ".py",
   "mimetype": "text/x-python",
   "name": "python",
   "nbconvert_exporter": "python",
   "pygments_lexer": "ipython3",
   "version": "3.8.5"
  }
 },
 "nbformat": 4,
 "nbformat_minor": 4
}
