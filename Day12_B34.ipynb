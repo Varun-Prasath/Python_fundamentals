{
 "cells": [
  {
   "cell_type": "code",
   "execution_count": null,
   "metadata": {},
   "outputs": [],
   "source": [
    "Introduction to user accepted input:"
   ]
  },
  {
   "cell_type": "code",
   "execution_count": 1,
   "metadata": {},
   "outputs": [
    {
     "name": "stdout",
     "output_type": "stream",
     "text": [
      "Tell me something and I will repeat it back for you: Hello all\n",
      " Hello all\n"
     ]
    }
   ],
   "source": [
    "message = input(\"Tell me something and I will repeat it back for you:\")\n",
    "print(message)"
   ]
  },
  {
   "cell_type": "code",
   "execution_count": 2,
   "metadata": {},
   "outputs": [
    {
     "name": "stdout",
     "output_type": "stream",
     "text": [
      "Please enter your name:Sadhana\n",
      "Hello, Sadhana \n"
     ]
    }
   ],
   "source": [
    "name = input(\"Please enter your name:\")\n",
    "print(f\"Hello, {name.title()} \")"
   ]
  },
  {
   "cell_type": "code",
   "execution_count": null,
   "metadata": {},
   "outputs": [],
   "source": []
  },
  {
   "cell_type": "code",
   "execution_count": null,
   "metadata": {},
   "outputs": [],
   "source": [
    "# Enhancement of the code..."
   ]
  },
  {
   "cell_type": "code",
   "execution_count": 4,
   "metadata": {},
   "outputs": [],
   "source": [
    "prompt = \"If you tell us who you are, We can personalize the message for you\"\n",
    "prompt += \"\\n What is your firstname ?\" # this is the extension of the string.."
   ]
  },
  {
   "cell_type": "code",
   "execution_count": 5,
   "metadata": {},
   "outputs": [
    {
     "name": "stdout",
     "output_type": "stream",
     "text": [
      "If you tell us who you are, We can personalize the message for you\n",
      " What is your firstname ?Naveen\n",
      "\n",
      "Hello, Naveen\n"
     ]
    }
   ],
   "source": [
    "name = input(prompt)\n",
    "print(f\"\\nHello, {name}\")"
   ]
  },
  {
   "cell_type": "code",
   "execution_count": null,
   "metadata": {},
   "outputs": [],
   "source": []
  },
  {
   "cell_type": "code",
   "execution_count": null,
   "metadata": {},
   "outputs": [],
   "source": [
    "Introduction to while loops:"
   ]
  },
  {
   "cell_type": "code",
   "execution_count": 6,
   "metadata": {},
   "outputs": [
    {
     "name": "stdout",
     "output_type": "stream",
     "text": [
      "1\n",
      "2\n",
      "3\n",
      "4\n",
      "5\n"
     ]
    }
   ],
   "source": [
    "# iterations\n",
    "current_num = 1\n",
    "\n",
    "while current_num <= 5:\n",
    "    print(current_num)\n",
    "    current_num += 1"
   ]
  },
  {
   "cell_type": "code",
   "execution_count": 10,
   "metadata": {},
   "outputs": [
    {
     "name": "stdout",
     "output_type": "stream",
     "text": [
      "1\n",
      "2\n",
      "3\n",
      "4\n",
      "5\n",
      "6\n",
      "7\n",
      "8\n",
      "9\n",
      "10\n"
     ]
    }
   ],
   "source": [
    "current_num = 1\n",
    "while current_num <= 10:\n",
    "    print(current_num)\n",
    "    current_num += 1"
   ]
  },
  {
   "cell_type": "code",
   "execution_count": null,
   "metadata": {},
   "outputs": [],
   "source": []
  },
  {
   "cell_type": "code",
   "execution_count": null,
   "metadata": {},
   "outputs": [],
   "source": [
    "# Letting the user choose when to quit...."
   ]
  },
  {
   "cell_type": "code",
   "execution_count": 11,
   "metadata": {},
   "outputs": [],
   "source": [
    "prompt = \"\\nTell me something and I will repeat it back to you:\"\n",
    "prompt += \"\\nEnter 'quit' to end the program\""
   ]
  },
  {
   "cell_type": "code",
   "execution_count": 12,
   "metadata": {},
   "outputs": [
    {
     "name": "stdout",
     "output_type": "stream",
     "text": [
      "\n",
      "Tell me something and I will repeat it back to you:\n",
      "Enter 'quit' to end the program Hello all\n",
      " Hello all\n",
      "\n",
      "Tell me something and I will repeat it back to you:\n",
      "Enter 'quit' to end the program How are you ?\n",
      " How are you ?\n",
      "\n",
      "Tell me something and I will repeat it back to you:\n",
      "Enter 'quit' to end the program Who is this?\n",
      " Who is this?\n",
      "\n",
      "Tell me something and I will repeat it back to you:\n",
      "Enter 'quit' to end the programquit\n",
      "quit\n"
     ]
    }
   ],
   "source": [
    "message = \" \" # an empty string\n",
    "\n",
    "while message != \"quit\":\n",
    "    message = input(prompt)\n",
    "    print(message)"
   ]
  },
  {
   "cell_type": "code",
   "execution_count": null,
   "metadata": {},
   "outputs": [],
   "source": []
  },
  {
   "cell_type": "code",
   "execution_count": null,
   "metadata": {},
   "outputs": [],
   "source": []
  }
 ],
 "metadata": {
  "kernelspec": {
   "display_name": "Python 3",
   "language": "python",
   "name": "python3"
  },
  "language_info": {
   "codemirror_mode": {
    "name": "ipython",
    "version": 3
   },
   "file_extension": ".py",
   "mimetype": "text/x-python",
   "name": "python",
   "nbconvert_exporter": "python",
   "pygments_lexer": "ipython3",
   "version": "3.8.5"
  }
 },
 "nbformat": 4,
 "nbformat_minor": 4
}
