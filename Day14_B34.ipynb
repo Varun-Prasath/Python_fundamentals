{
 "cells": [
  {
   "cell_type": "code",
   "execution_count": null,
   "metadata": {},
   "outputs": [],
   "source": [
    "Continuation tto function:"
   ]
  },
  {
   "cell_type": "code",
   "execution_count": null,
   "metadata": {},
   "outputs": [],
   "source": [
    "Types of arguments:\n",
    "    \n",
    "1. Positional arguments\n",
    "2. Keyword arguments\n",
    "3. Default arguments\n",
    "4. Arbitary arguments\n",
    "5. Return values"
   ]
  },
  {
   "cell_type": "code",
   "execution_count": 1,
   "metadata": {},
   "outputs": [],
   "source": [
    "def describe_pet(animal_type, pet_name):\n",
    "    \"\"\"creating the function to have the details of the pet\"\"\"\n",
    "    print(f\"I have a {animal_type}\")\n",
    "    print(f\"My {animal_type}'s name is {pet_name}'\")"
   ]
  },
  {
   "cell_type": "code",
   "execution_count": 2,
   "metadata": {},
   "outputs": [
    {
     "name": "stdout",
     "output_type": "stream",
     "text": [
      "I have a Dog\n",
      "My Dog's name is Bruno'\n"
     ]
    }
   ],
   "source": [
    "describe_pet('Dog', 'Bruno') # positional arguments"
   ]
  },
  {
   "cell_type": "code",
   "execution_count": 4,
   "metadata": {},
   "outputs": [
    {
     "name": "stdout",
     "output_type": "stream",
     "text": [
      "I have a Rex\n",
      "My Rex's name is cat'\n"
     ]
    }
   ],
   "source": [
    "describe_pet('Rex', 'cat') #the same order have to be maintained in the arguments like parameters or else output will impact"
   ]
  },
  {
   "cell_type": "code",
   "execution_count": null,
   "metadata": {},
   "outputs": [],
   "source": [
    "# If we are changing the positions oof the arguments, can we get the same output...?"
   ]
  },
  {
   "cell_type": "code",
   "execution_count": 5,
   "metadata": {},
   "outputs": [
    {
     "name": "stdout",
     "output_type": "stream",
     "text": [
      "I have a dog\n",
      "My dog's name is rex'\n"
     ]
    }
   ],
   "source": [
    "describe_pet(pet_name = 'rex', animal_type = 'dog') #we are adding parameters as keywords here........"
   ]
  },
  {
   "cell_type": "code",
   "execution_count": 6,
   "metadata": {},
   "outputs": [
    {
     "ename": "TypeError",
     "evalue": "describe_pet() missing 1 required positional argument: 'pet_name'",
     "output_type": "error",
     "traceback": [
      "\u001b[1;31m---------------------------------------------------------------------------\u001b[0m",
      "\u001b[1;31mTypeError\u001b[0m                                 Traceback (most recent call last)",
      "\u001b[1;32m<ipython-input-6-3c48d8a2ec68>\u001b[0m in \u001b[0;36m<module>\u001b[1;34m\u001b[0m\n\u001b[1;32m----> 1\u001b[1;33m \u001b[0mdescribe_pet\u001b[0m\u001b[1;33m(\u001b[0m\u001b[1;34m'kitty'\u001b[0m\u001b[1;33m)\u001b[0m\u001b[1;33m\u001b[0m\u001b[1;33m\u001b[0m\u001b[0m\n\u001b[0m",
      "\u001b[1;31mTypeError\u001b[0m: describe_pet() missing 1 required positional argument: 'pet_name'"
     ]
    }
   ],
   "source": [
    "describe_pet('kitty')"
   ]
  },
  {
   "cell_type": "code",
   "execution_count": null,
   "metadata": {},
   "outputs": [],
   "source": [
    "# we get animal type and pet name from the users...but incase of any missing information ---> dog"
   ]
  },
  {
   "cell_type": "code",
   "execution_count": 7,
   "metadata": {},
   "outputs": [
    {
     "ename": "SyntaxError",
     "evalue": "non-default argument follows default argument (<ipython-input-7-e64b7ac1a2d3>, line 1)",
     "output_type": "error",
     "traceback": [
      "\u001b[1;36m  File \u001b[1;32m\"<ipython-input-7-e64b7ac1a2d3>\"\u001b[1;36m, line \u001b[1;32m1\u001b[0m\n\u001b[1;33m    def describe_pet(animal_type = 'dog', pet_name):\u001b[0m\n\u001b[1;37m                     ^\u001b[0m\n\u001b[1;31mSyntaxError\u001b[0m\u001b[1;31m:\u001b[0m non-default argument follows default argument\n"
     ]
    }
   ],
   "source": [
    "def describe_pet(animal_type = 'dog', pet_name):\n",
    "    \"\"\"creating the function to have the details of the pet\"\"\"\n",
    "    print(f\"I have a {animal_type}\")\n",
    "    print(f\"My {animal_type}'s name is {pet_name}'\")"
   ]
  },
  {
   "cell_type": "code",
   "execution_count": null,
   "metadata": {},
   "outputs": [],
   "source": [
    "# Note : Whenever declaring the argument keep it at the end...."
   ]
  },
  {
   "cell_type": "code",
   "execution_count": 8,
   "metadata": {},
   "outputs": [],
   "source": [
    "def describe_pet(pet_name, animal_type = 'dog'):\n",
    "    \"\"\"creating the function to have the details of the pet\"\"\"\n",
    "    print(f\"I have a {animal_type}\")\n",
    "    print(f\"My {animal_type}'s name is {pet_name}'\")"
   ]
  },
  {
   "cell_type": "code",
   "execution_count": 10,
   "metadata": {},
   "outputs": [
    {
     "name": "stdout",
     "output_type": "stream",
     "text": [
      "I have a dog\n",
      "My dog's name is kitty'\n"
     ]
    }
   ],
   "source": [
    "describe_pet('kitty')"
   ]
  },
  {
   "cell_type": "code",
   "execution_count": 11,
   "metadata": {},
   "outputs": [
    {
     "name": "stdout",
     "output_type": "stream",
     "text": [
      "I have a cat\n",
      "My cat's name is rex'\n"
     ]
    }
   ],
   "source": [
    "describe_pet('rex', 'cat')"
   ]
  },
  {
   "cell_type": "code",
   "execution_count": null,
   "metadata": {},
   "outputs": [],
   "source": []
  },
  {
   "cell_type": "code",
   "execution_count": null,
   "metadata": {},
   "outputs": [],
   "source": []
  },
  {
   "cell_type": "code",
   "execution_count": null,
   "metadata": {},
   "outputs": [],
   "source": []
  },
  {
   "cell_type": "code",
   "execution_count": null,
   "metadata": {},
   "outputs": [],
   "source": []
  }
 ],
 "metadata": {
  "kernelspec": {
   "display_name": "Python 3",
   "language": "python",
   "name": "python3"
  },
  "language_info": {
   "codemirror_mode": {
    "name": "ipython",
    "version": 3
   },
   "file_extension": ".py",
   "mimetype": "text/x-python",
   "name": "python",
   "nbconvert_exporter": "python",
   "pygments_lexer": "ipython3",
   "version": "3.8.5"
  }
 },
 "nbformat": 4,
 "nbformat_minor": 4
}
